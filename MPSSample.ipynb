{
 "cells": [
  {
   "cell_type": "code",
   "execution_count": 1,
   "id": "21c33474",
   "metadata": {},
   "outputs": [],
   "source": [
    "#Importing nessecary libraries and MPS_MPO.py\n",
    "import numpy as np\n",
    "import math\n",
    "from numpy import linalg as LA\n",
    "from scipy import linalg as SLA\n",
    "from MPS_MPO_fix import *"
   ]
  },
  {
   "cell_type": "markdown",
   "id": "ba5a5892",
   "metadata": {},
   "source": [
    "## First Let's try our MPS function on random state"
   ]
  },
  {
   "cell_type": "code",
   "execution_count": 2,
   "id": "246f76af",
   "metadata": {},
   "outputs": [],
   "source": [
    "#Let's try for random states\n",
    "sshape = (2,3,4,5,6)\n",
    "c2 = np.random.rand(*sshape) + np.random.rand(*sshape) * 1j\n",
    "c2 = c2/np.sqrt(np.sum(np.conj(c2) * c2))"
   ]
  },
  {
   "cell_type": "code",
   "execution_count": 3,
   "id": "988291f3",
   "metadata": {},
   "outputs": [
    {
     "name": "stdout",
     "output_type": "stream",
     "text": [
      "[(2, 2), (2, 3, 6), (6, 4, 24), (24, 5, 6), (6, 6)]\n"
     ]
    }
   ],
   "source": [
    "#Apply MPS function to the state c2 (Print the size of Gamma Gamma_{alpha_{l-1},i_l, alpha_l}\n",
    "G,S = MPS(c2)"
   ]
  },
  {
   "cell_type": "markdown",
   "id": "bf896c60",
   "metadata": {},
   "source": [
    "The $G$ is a list consist of $\\Gamma^{[l] i_l}_{\\alpha_{l-1} \\alpha_l}$ and the index order of element in $G$ is $[\\alpha_{l-1}, i_l, \\alpha_{l}]$. And similarly, $S$ is a list consist of $\\lambda^{[l]}_{\\alpha_l}$."
   ]
  },
  {
   "cell_type": "code",
   "execution_count": 4,
   "id": "705b42ad",
   "metadata": {
    "scrolled": true
   },
   "outputs": [
    {
     "data": {
      "text/plain": [
       "(6, 4, 24)"
      ]
     },
     "execution_count": 4,
     "metadata": {},
     "output_type": "execute_result"
    }
   ],
   "source": [
    "G[2].shape"
   ]
  },
  {
   "cell_type": "markdown",
   "id": "22c7e408",
   "metadata": {},
   "source": [
    "Now, we want to recreate the state from the MPS we calculated. So we directly calculated $recreate = \\Gamma^{[0] i_0}_{\\alpha_0} \\lambda^{[0]}_{\\alpha_0}\\Gamma^{[1] i_1}_{\\alpha_0,\\alpha_1} \\cdots \\lambda^{[N-1]}_{\\alpha_{N-1}} \\Gamma^{[N] i_N}_{\\alpha_{N-1}}$.\n",
    "\n",
    "Then we calculate the Frobenius norm (sum of square of all elements of the tensor) of original state and norm of difference between original state and recreate state."
   ]
  },
  {
   "cell_type": "code",
   "execution_count": 5,
   "id": "df480864",
   "metadata": {},
   "outputs": [
    {
     "name": "stdout",
     "output_type": "stream",
     "text": [
      "The original state(c2) norm (1.0000000000000002+0j)\n",
      "c2 - MPS norm (9.225986565864108e-15+0j)\n"
     ]
    }
   ],
   "source": [
    "#Checking if the MPS can regenerate the original state\n",
    "recreate = G[0]\n",
    "for i in range(1, len(c2.shape)):\n",
    "    recreate = np.tensordot(recreate, np.diag(S[i-1]), (-1,0))\n",
    "    recreate = np.tensordot(recreate, G[i], (-1,0))\n",
    "print('The original state(c2) norm',np.sqrt(np.sum(np.conj(c2) * c2)))\n",
    "print('c2 - MPS norm',np.sqrt(np.sum(np.conj(c2-recreate) * (c2-recreate))))"
   ]
  },
  {
   "cell_type": "markdown",
   "id": "2e12c14a",
   "metadata": {},
   "source": [
    "Since we have confirm we can recreate the state from MPS, now we want to check if we can get Schimidt's decomposition for arbitrary $l$ that $|\\Phi\\rangle = \\lambda^{[l]}_{\\alpha_l} |\\Phi^{[1,\\cdots,l]}_{\\alpha_l}\\rangle |\\Phi^{[l+1, \\cdots, N]}_{\\alpha_l}\\rangle$ where we have:\n",
    "$$|\\Phi^{[1,\\cdots,l]}_{\\alpha_l}\\rangle = \\Gamma^{[0] i_0}_{\\alpha_0} \\lambda^{[0]}_{\\alpha_0} \\cdots \\lambda^{[l-1]}_{\\alpha_{l-1}} \\Gamma^{[l] i_l}_{\\alpha_{l-1}, \\alpha_{l}} |i_0,i_1,\\cdots, i_l\\rangle$$ and similarly\n",
    "$$|\\Phi^{[l+1,\\cdots,N]}_{\\alpha_l}\\rangle = \\Gamma^{[l+1] i_{l+1}}_{\\alpha_l, \\alpha_{l+1}} \\lambda^{[l+1]}_{\\alpha_{l+1}} \\cdots \\lambda^{[N-1]}_{\\alpha_{N-1}} \\Gamma^{[N] i_N}_{\\alpha_{N-1}} |i_0,i_1,\\cdots, i_l\\rangle$$\n",
    "\n",
    "From previous step, we have already checked that $|\\Phi\\rangle = \\lambda^{[l]}_{\\alpha_l} |\\Phi^{[1,\\cdots,l]}_{\\alpha_l}\\rangle |\\Phi^{[l+1, \\cdots, N]}_{\\alpha_l}\\rangle$, now we only need to check if $|\\Phi^{[1,\\cdots,l]}_{\\alpha_l}\\rangle$ and $|\\Phi^{[l+1, \\cdots, N]}_{\\alpha_l}\\rangle$ are unit vectors. We also need to check if $\\sum_{\\alpha_l} (\\lambda^{[l]}_{\\alpha_l})^2 = 1$.\n",
    "\n",
    "The reason we need to this Schimidt's decomposition property to work is that we can later calculate the evolope function in $O(\\chi^2 d)$ time complexity and $O(\\chi d)$ memory complexity."
   ]
  },
  {
   "cell_type": "code",
   "execution_count": 6,
   "id": "3e3ed915",
   "metadata": {
    "scrolled": true
   },
   "outputs": [
    {
     "name": "stdout",
     "output_type": "stream",
     "text": [
      "The norms for the left part and its shape:\n",
      "(1+0j) (2, 3)\n",
      "(1+0j) (2, 3)\n",
      "(0.9999999999999999+0j) (2, 3)\n",
      "(1+0j) (2, 3)\n",
      "(1.0000000000000002+0j) (2, 3)\n",
      "(1+0j) (2, 3)\n",
      "Now, let's print the norm for the right part:\n",
      "(1.0000000000000009+0j) (4, 5, 6)\n",
      "(0.9999999999999993+0j) (4, 5, 6)\n",
      "(0.9999999999999987+0j) (4, 5, 6)\n",
      "(0.9999999999999973+0j) (4, 5, 6)\n",
      "(0.9999999999999996+0j) (4, 5, 6)\n",
      "(0.999999999999999+0j) (4, 5, 6)\n",
      "And this is the Lambdas:\n",
      "[0.8907624  0.22831986 0.20009983 0.18629031 0.21183353 0.18653399] 0.9999999999999999\n"
     ]
    }
   ],
   "source": [
    "#Checking if it extract Schimdt's decomposition for lambda_i |phi\n",
    "l = 1\n",
    "N = len(c2.shape)\n",
    "left = G[0]\n",
    "right = G[l+1]\n",
    "for i in range(1,l+1):\n",
    "    left = np.tensordot(left, np.diag(S[i-1]),(-1,0))\n",
    "    left = np.tensordot(left, G[i],(-1,0))\n",
    "for j in range(l+1,N-1):\n",
    "    right = np.tensordot(right, np.diag(S[j]),(-1,0))\n",
    "    right = np.tensordot(right, G[j+1], (-1,0))\n",
    "#Checking the normality of left and right\n",
    "print(\"The norms for the left part and its shape:\")\n",
    "for j in range(len(S[l])):\n",
    "    temp = left[..., j]\n",
    "    print(np.sum(np.conj(temp)*temp), temp.shape)\n",
    "    #print(left)\n",
    "print(\"Now, let's print the norm for the right part:\")\n",
    "for j in range(len(S[l])):\n",
    "    temp = right[j]\n",
    "    print(np.sum(np.conj(temp)*temp), temp.shape)\n",
    "\n",
    "print(\"And this is the Lambdas:\")\n",
    "print(S[l], np.sum(np.power(S[l],2)))"
   ]
  },
  {
   "cell_type": "markdown",
   "id": "59190460",
   "metadata": {},
   "source": [
    "Notice, for fixed $\\alpha_{l-1}$ and $\\alpha_{l}$, we can not gareented $\\Gamma^{[l] i_{l}}_{\\alpha_{l-1}, \\alpha_{l}}$ is unit vector (The following is an example: $\\Gamma^{[1] i_{1}}_{\\alpha_{0} = 1, \\alpha_{l} = 0}$ is not unit vector)."
   ]
  },
  {
   "cell_type": "code",
   "execution_count": 7,
   "id": "e2548baf",
   "metadata": {},
   "outputs": [
    {
     "data": {
      "text/plain": [
       "(0.026093611333529255+0j)"
      ]
     },
     "execution_count": 7,
     "metadata": {},
     "output_type": "execute_result"
    }
   ],
   "source": [
    "vec = G[2][1,:,0]\n",
    "np.sum(np.conj(vec)*vec)"
   ]
  },
  {
   "cell_type": "markdown",
   "id": "62b2afae",
   "metadata": {},
   "source": [
    "## Now let's try the same thing on slightly entangled state with fixed spin dimension 2"
   ]
  },
  {
   "cell_type": "code",
   "execution_count": 8,
   "id": "3cefaaa1",
   "metadata": {},
   "outputs": [],
   "source": [
    "#Generate the slightly local entangled State\n",
    "c = np.zeros((2,2,2,2,2,2), dtype = np.complex_)\n",
    "c[(0,0,0,0,0,0)] += 1.\n",
    "c[(1,1,0,0,0,0)] += 1/3.\n",
    "c[(0,0,1,1,0,0)] += 1/4.\n",
    "#c[(0,1,1,0,0,0)] += 1/5+0.2j\n",
    "c[(0,0,0,0,1,1)] += 1/6.\n",
    "#c[(0,0,0,1,1,0)] += 1/7.\n",
    "#Normailize the State\n",
    "c = c/np.sqrt(np.sum(np.conj(c) * c))"
   ]
  },
  {
   "cell_type": "code",
   "execution_count": 9,
   "id": "9e676fa1",
   "metadata": {},
   "outputs": [
    {
     "name": "stdout",
     "output_type": "stream",
     "text": [
      "[(2, 2), (2, 2, 2), (2, 2, 3), (3, 2, 2), (2, 2, 2), (2, 2)]\n"
     ]
    }
   ],
   "source": [
    "#Apply MPS function to the state c (Print the size of Gamma Gamma_{alpha_{l-1},i_l, alpha_l}\n",
    "G,S = MPS(c)"
   ]
  },
  {
   "cell_type": "code",
   "execution_count": 10,
   "id": "0a4fdd94",
   "metadata": {},
   "outputs": [
    {
     "name": "stdout",
     "output_type": "stream",
     "text": [
      "The original state(c) norm (1+0j)\n",
      "c - MPS norm (7.470130247756179e-16+0j)\n"
     ]
    }
   ],
   "source": [
    "#Checking if the MPS can regenerate the original state\n",
    "recreate1 = G[0]\n",
    "for i in range(1, len(c.shape)):\n",
    "    recreate1 = np.tensordot(recreate1, np.diag(S[i-1]), (-1,0))\n",
    "    recreate1 = np.tensordot(recreate1, G[i], (-1,0))\n",
    "print('The original state(c) norm',np.sqrt(np.sum(np.conj(c) * c)))\n",
    "print('c - MPS norm',np.sqrt(np.sum(np.conj(c-recreate1) * (c-recreate1))))"
   ]
  },
  {
   "cell_type": "code",
   "execution_count": 11,
   "id": "882ef291",
   "metadata": {},
   "outputs": [
    {
     "name": "stdout",
     "output_type": "stream",
     "text": [
      "The norms for the left part and its shape:\n",
      "(1.0000000000000002+0j) (2, 2, 2)\n",
      "(1+0j) (2, 2, 2)\n",
      "(1+0j) (2, 2, 2)\n",
      "Now, let's print the norm for the right part:\n",
      "(1.0000000000000004+0j) (2, 2, 2)\n",
      "(0.9999999999999996+0j) (2, 2, 2)\n",
      "(1+0j) (2, 2, 2)\n",
      "And this is the Lambdas:\n",
      "[0.96169407 0.22808578 0.15205718]\n"
     ]
    }
   ],
   "source": [
    "#Checking if we can extract Schimdt's decomposition from it for lambda_i |phi^[1...l]>|phi^[l+1...N]>\n",
    "l = 2\n",
    "N = len(c.shape)\n",
    "left = G[0]\n",
    "right = G[l+1]\n",
    "for i in range(1,l+1):\n",
    "    left = np.tensordot(left, np.diag(S[i-1]),(-1,0))\n",
    "    left = np.tensordot(left, G[i],(-1,0))\n",
    "for j in range(l+1,N-1):\n",
    "    right = np.tensordot(right, np.diag(S[j]),(-1,0))\n",
    "    right = np.tensordot(right, G[j+1], (-1,0))\n",
    "#Checking the normality of left and right\n",
    "print(\"The norms for the left part and its shape:\")\n",
    "for j in range(len(S[l])):\n",
    "    temp = left[..., j]\n",
    "    print(np.sum(np.conj(temp)*temp), temp.shape)\n",
    "print(\"Now, let's print the norm for the right part:\")\n",
    "for j in range(len(S[l])):\n",
    "    temp = right[j]\n",
    "    print(np.sum(np.conj(temp)*temp), temp.shape)\n",
    "print(\"And this is the Lambdas:\")\n",
    "print(S[l])"
   ]
  },
  {
   "cell_type": "markdown",
   "id": "fa2179e0",
   "metadata": {},
   "source": [
    "## Now let's try the two mode unitary operator operate on MPS"
   ]
  },
  {
   "cell_type": "code",
   "execution_count": 12,
   "id": "a3b35026",
   "metadata": {
    "scrolled": true
   },
   "outputs": [
    {
     "name": "stdout",
     "output_type": "stream",
     "text": [
      "U [[0.99989796-0.01428523j 0.        +0.j         0.        +0.j\n",
      "  0.        +0.j        ]\n",
      " [0.        +0.j         0.99898767-0.04498481j 0.        +0.j\n",
      "  0.        +0.j        ]\n",
      " [0.        +0.j         0.        +0.j         0.9994445 -0.03332716j\n",
      "  0.        +0.j        ]\n",
      " [0.        +0.j         0.        +0.j         0.        +0.j\n",
      "  0.99986111-0.0166659j ]]\n",
      "U times U hermitian is:  [[1.+0.j 0.+0.j 0.+0.j 0.+0.j]\n",
      " [0.+0.j 1.+0.j 0.+0.j 0.+0.j]\n",
      " [0.+0.j 0.+0.j 1.+0.j 0.+0.j]\n",
      " [0.+0.j 0.+0.j 0.+0.j 1.+0.j]]\n"
     ]
    },
    {
     "name": "stderr",
     "output_type": "stream",
     "text": [
      "C:\\Users\\yukai\\anaconda3\\lib\\site-packages\\numpy\\lib\\function_base.py:793: VisibleDeprecationWarning: Creating an ndarray from ragged nested sequences (which is a list-or-tuple of lists-or-tuples-or ndarrays with different lengths or shapes) is deprecated. If you meant to do this, you must specify 'dtype=object' when creating the ndarray.\n",
      "  return array(a, order=order, subok=subok, copy=True)\n"
     ]
    }
   ],
   "source": [
    "#Now let's try the two mode unitrary operator\n",
    "#First we generate a (real) Hermitian operator for two mode\n",
    "V = np.zeros((2,2,2,2), dtype = np.complex_)\n",
    "#V[(1,0,0,1)] += 1/2\n",
    "#V[(0,1,1,0)] += 1/2\n",
    "V[(1,0,1,0)] += 1/3\n",
    "V[(0,1,0,1)] += 1/4\n",
    "V[(0,1,0,1)] += 1/5\n",
    "V[(1,1,1,1)] += 1/6\n",
    "V[(0,0,0,0)] += 1/7\n",
    "#Time evolution operator U for deltat = 0.1\n",
    "Vr= V.reshape(4,4)\n",
    "#print(\"V - V hermitian is: \", Vr - np.transpose(np.conj(Vr)))\n",
    "deltat = 0.1\n",
    "U = SLA.expm(- 1.j * deltat *Vr).reshape(2,2,2,2)\n",
    "#Check whether U is unitary\n",
    "Ur = U.reshape(4,4)\n",
    "print(\"U\", Ur)\n",
    "print(\"U times U hermitian is: \", Ur*np.transpose(np.conj(Ur)))\n",
    "G_0 = np.copy(G); S_0 = np.copy(S)\n",
    "G_new, S_new = two_mode(G_0,S_0,U,3)"
   ]
  },
  {
   "cell_type": "code",
   "execution_count": null,
   "id": "3d0b7365",
   "metadata": {},
   "outputs": [],
   "source": []
  },
  {
   "cell_type": "code",
   "execution_count": 13,
   "id": "4ed38d8b",
   "metadata": {
    "scrolled": true
   },
   "outputs": [
    {
     "name": "stdout",
     "output_type": "stream",
     "text": [
      "The norms for the left part and its shape:\n",
      "(0.9999999999999999+0j) (2, 2, 2, 2)\n",
      "(0.9999999999999998+0j) (3, 2)\n",
      "(1+0j) (2, 2, 2, 2)\n",
      "(1+0j) (3, 2)\n",
      "Now, let's print the norm for the right part:\n",
      "(1+0j) (2, 2)\n",
      "(0.9999999999999998+0j) (2, 2)\n",
      "And this is the Lambdas:\n",
      "[0.9883717  0.15205718] 1.0000000000000018\n"
     ]
    }
   ],
   "source": [
    "#Checking if we can extract Schimdt's decomposition from it for lambda_i |phi^[1...l]>|phi^[l+1...N]>\n",
    "l = 3\n",
    "N = len(c.shape)\n",
    "left = G_new[0]\n",
    "right = G_new[l+1]\n",
    "for i in range(1,l+1):\n",
    "    left = np.tensordot(left, np.diag(S_new[i-1]),(-1,0))\n",
    "    left = np.tensordot(left, G_new[i],(-1,0))\n",
    "for j in range(l+1,N-1):\n",
    "    right = np.tensordot(right, np.diag(S_new[j]),(-1,0))\n",
    "    right = np.tensordot(right, G_new[j+1], (-1,0))\n",
    "#Checking the normality of left and right\n",
    "print(\"The norms for the left part and its shape:\")\n",
    "for j in range(len(S_new[l])):\n",
    "    temp = left[..., j]\n",
    "    print(np.sum(np.conj(temp)*temp), temp.shape)\n",
    "    temp2 = np.tensordot(np.diag(S_new[l-1]),G_new[l],(0,0))[...,j]\n",
    "    #temp2 = np.tensordot(G_new[l-1],temp2,(-1,0))\n",
    "    #print(temp2.shape,len(S_new[l-2]))\n",
    "    #temp2 = np.tensordot(np.diag(S_new[l-2]),temp2,(-1,0))[...,j]\n",
    "    print(np.sum(np.conj(temp2)*temp2), temp2.shape)\n",
    "print(\"Now, let's print the norm for the right part:\")\n",
    "for j in range(len(S_new[l])):\n",
    "    temp = right[j]\n",
    "    print(np.sum(np.conj(temp)*temp), temp.shape)\n",
    "print(\"And this is the Lambdas:\")\n",
    "print(S_new[l], np.sum(np.power(S_new[l],2)))"
   ]
  },
  {
   "cell_type": "markdown",
   "id": "e1ca2271",
   "metadata": {},
   "source": [
    "Additionally, we need to check the orthogonality of Schmidt's Decomposition"
   ]
  },
  {
   "cell_type": "code",
   "execution_count": 14,
   "id": "4269f42c",
   "metadata": {},
   "outputs": [
    {
     "name": "stdout",
     "output_type": "stream",
     "text": [
      "[array([[-0.90751445-0.j,  0.        +0.j],\n",
      "       [ 0.        +0.j,  0.09248555+0.j]])]\n"
     ]
    }
   ],
   "source": [
    "cl = G_new[0]\n",
    "for i in range(1, 2):\n",
    "    cl = np.tensordot(cl, np.diag(S_new[i-1]), (-1,0))\n",
    "    cl = np.tensordot(cl, G_new[i], (-1,0))\n",
    "print([np.conj(cl[...,0])*cl[...,1]])"
   ]
  },
  {
   "cell_type": "markdown",
   "id": "aeb11006",
   "metadata": {},
   "source": [
    "## Now we want to calculate the possibilty for one spin to be some state (|0> or |1>).\n",
    "\n",
    "We have a fast method if the previous Schimidt's decomposition is correct:\n",
    "$$P(|i_l\\rangle = |k\\rangle) = (norm( \\lambda^{[l-1]}_{\\alpha_{l-1}} \\Gamma^{[l] i_l = k}_{\\alpha_{l-1}, \\alpha_{l}} \\lambda^{[l]}_{\\alpha_{l}}))^2 = \\sum_{\\alpha_{l-1}, \\alpha_{l}} (\\lambda^{[l-1]}_{\\alpha_{l-1}} \\Gamma^{[l] i_l = k}_{\\alpha_{l-1}, \\alpha_{l}} \\lambda^{[l]}_{\\alpha_{l}})^2$$"
   ]
  },
  {
   "cell_type": "code",
   "execution_count": 15,
   "id": "5faebefa",
   "metadata": {},
   "outputs": [
    {
     "name": "stdout",
     "output_type": "stream",
     "text": [
      "The actrual possiblity of spin_0 be 0 is: (0.9075144508670521+0j)\n",
      "The possiblity calculatd by the fast method: (0.907514450867052+0j)\n",
      "The actrual possiblity of spin_1 be 1 is: (0.09248554913294797+0j)\n",
      "The possiblity calculatd by the fast method: (0.092485549132948+0j)\n",
      "The actrual possiblity of spin_3 be 0 is: (0.9479768786127167+0j)\n",
      "The possiblity calculatd by the fast method: (0.9479768786127183+0j)\n"
     ]
    }
   ],
   "source": [
    "a = c[0,...]\n",
    "print(\"The actrual possiblity of spin_0 be 0 is:\", np.sum(np.conj(a)*a))\n",
    "aa = np.tensordot(G[0][0], np.diag(S[0]),(-1,0))\n",
    "print(\"The possiblity calculatd by the fast method:\", np.sum(np.conj(aa)*aa))\n",
    "\n",
    "a = c[:,1,...]\n",
    "print(\"The actrual possiblity of spin_1 be 1 is:\", np.sum(np.conj(a)*a))\n",
    "aa = np.tensordot(np.diag(S[0]),np.tensordot(G[1][:,1,:], np.diag(S[1]),(-1,0)),(-1,0))\n",
    "print(\"The possiblity calculatd by the fast method:\", np.sum(np.conj(aa)*aa))\n",
    "\n",
    "a = c[:,:,:,0,...]\n",
    "print(\"The actrual possiblity of spin_3 be 0 is:\", np.sum(np.conj(a)*a))\n",
    "aa = np.tensordot(np.diag(S[2]),np.tensordot(G[3][:,0,:], np.diag(S[3]),(-1,0)),(-1,0))\n",
    "print(\"The possiblity calculatd by the fast method:\",np.sum(np.conj(aa)*aa))\n",
    "\n"
   ]
  },
  {
   "cell_type": "code",
   "execution_count": 16,
   "id": "e5ccf67f",
   "metadata": {},
   "outputs": [
    {
     "name": "stdout",
     "output_type": "stream",
     "text": [
      "The actrual c_i*c_j is: 0j\n",
      "The possiblity calculatd by the fast method: 0j\n",
      "The actrual possiblity of spin_1 be 1 is: 0j\n",
      "The possiblity calculatd by the fast method: 0j\n"
     ]
    }
   ],
   "source": [
    "a = c[0,...]; b = c[1,...]\n",
    "print(\"The actrual c_i*c_j is:\", np.sum(np.conj(a)*b))\n",
    "aa = np.tensordot(G[0][0], np.diag(S[0]),(-1,0))\n",
    "bb = np.tensordot(G[0][1], np.diag(S[0]),(-1,0))\n",
    "print(\"The possiblity calculatd by the fast method:\", np.sum(np.conj(aa)*bb))\n",
    "\n",
    "a = c[:,1,...]; b = c[:,0,...]\n",
    "print(\"The actrual possiblity of spin_1 be 1 is:\", np.sum(np.conj(a)*b))\n",
    "aa = np.tensordot(np.diag(S[0]),np.tensordot(G[1][:,1,:], np.diag(S[1]),(-1,0)),(-1,0))\n",
    "bb = np.tensordot(np.diag(S[0]),np.tensordot(G[1][:,0,:], np.diag(S[1]),(-1,0)),(-1,0))\n",
    "print(\"The possiblity calculatd by the fast method:\", np.sum(np.conj(aa)*bb))\n"
   ]
  },
  {
   "cell_type": "code",
   "execution_count": 17,
   "id": "ee44f8b0",
   "metadata": {},
   "outputs": [
    {
     "name": "stdout",
     "output_type": "stream",
     "text": [
      "(0.9075144508670538+0j)\n",
      "(0.907514450867052+0j)\n",
      "(0.09248554913294815+0j)\n",
      "(0.092485549132948+0j)\n",
      "(0.9479768786127187+0j)\n",
      "(0.9713375796178355+0j)\n",
      "(0.05202312138728324+0j)\n",
      "(0.028662420382165616+0j)\n",
      "(0.9479768786127187+0j)\n",
      "(0.9479768786127183+0j)\n",
      "(0.9768786127167649+0j)\n",
      "(0.9768786127167648+0j)\n"
     ]
    }
   ],
   "source": [
    "crec = G_new[0]\n",
    "for i in range(1, len(c.shape)):\n",
    "    crec = np.tensordot(crec, np.diag(S_new[i-1]), (-1,0))\n",
    "    crec = np.tensordot(crec, G_new[i], (-1,0))\n",
    "\n",
    "a = crec[0,...]\n",
    "print(np.sum(np.conj(a)*a))\n",
    "aa = np.tensordot(G_new[0][0], np.diag(S_new[0]),(-1,0))\n",
    "print(np.sum(np.conj(aa)*aa))\n",
    "\n",
    "a = crec[:,1,...]\n",
    "print(np.sum(np.conj(a)*a))\n",
    "aa = np.tensordot(np.diag(S[0]),np.tensordot(G_new[1][:,1,:], np.diag(S_new[1]),(-1,0)),(-1,0))\n",
    "print(np.sum(np.conj(aa)*aa))\n",
    "\n",
    "a = crec[:,:,0,...]\n",
    "print(np.sum(np.conj(a)*a))\n",
    "aa = np.tensordot(np.diag(S_new[1]),np.tensordot(G_new[2][:,0,:], np.diag(S_new[2]),(-1,0)),(-1,0))\n",
    "print(np.sum(np.conj(aa)*aa))\n",
    "\n",
    "a = crec[:,:,1,...]\n",
    "print(np.sum(np.conj(a)*a))\n",
    "aa = np.tensordot(np.diag(S_new[1]),np.tensordot(G_new[2][:,1,:], np.diag(S_new[2]),(-1,0)),(-1,0))\n",
    "print(np.sum(np.conj(aa)*aa))\n",
    "\n",
    "\n",
    "a = crec[:,:,:,0,...]\n",
    "print(np.sum(np.conj(a)*a))\n",
    "aa = np.tensordot(np.diag(S_new[2]),np.tensordot(G_new[3][:,0,:], np.diag(S_new[3]),(-1,0)),(-1,0))\n",
    "print(np.sum(np.conj(aa)*aa))\n",
    "\n",
    "\n",
    "\n",
    "a = crec[:,:,:,:,0,...]\n",
    "print(np.sum(np.conj(a)*a))\n",
    "aa = np.tensordot(np.diag(S_new[3]),np.tensordot(G_new[4][:,0,:], np.diag(S_new[4]),(-1,0)),(-1,0))\n",
    "print(np.sum(np.conj(aa)*aa))"
   ]
  },
  {
   "cell_type": "code",
   "execution_count": 18,
   "id": "fde741d4",
   "metadata": {},
   "outputs": [
    {
     "name": "stdout",
     "output_type": "stream",
     "text": [
      "Norm of a is 7.383267255569606\n",
      "Norm of b is 40.52764630063643\n",
      "Norm of c is 204.3474611905113\n"
     ]
    }
   ],
   "source": [
    "a = np.random.rand(2,3,4)\n",
    "b = np.random.rand(4,5,6)\n",
    "print('Norm of a is', np.sum(np.power(a,2)))\n",
    "print('Norm of b is', np.sum(np.power(b,2)))\n",
    "c = np.tensordot(a,b,(-1,0))\n",
    "print('Norm of c is', np.sum(np.power(c,2)))"
   ]
  }
 ],
 "metadata": {
  "kernelspec": {
   "display_name": "Python 3",
   "language": "python",
   "name": "python3"
  },
  "language_info": {
   "codemirror_mode": {
    "name": "ipython",
    "version": 3
   },
   "file_extension": ".py",
   "mimetype": "text/x-python",
   "name": "python",
   "nbconvert_exporter": "python",
   "pygments_lexer": "ipython3",
   "version": "3.8.8"
  }
 },
 "nbformat": 4,
 "nbformat_minor": 5
}
